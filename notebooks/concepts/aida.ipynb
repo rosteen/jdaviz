{
 "cells": [
  {
   "cell_type": "markdown",
   "id": "5bd4b7fa-d7ed-48e8-92bc-442ed336ec23",
   "metadata": {},
   "source": [
    "# Shared API for viewer orientation\n",
    "\n",
    "#### Load observations of the Cartwheel Galaxy into `imviz`:"
   ]
  },
  {
   "cell_type": "code",
   "execution_count": null,
   "id": "ad82c2ef-be3a-4316-a82d-c11ede32064d",
   "metadata": {},
   "outputs": [],
   "source": [
    "from jdaviz import Imviz\n",
    "\n",
    "viz = Imviz()\n",
    "viz.load_data('../../jdaviz/notebooks/jw02727-o002_t062_nircam_clear-f277w_i2d.fits')\n",
    "viz.show(height=400)\n",
    "\n",
    "imviz_viewer = viz.app.get_viewer(\"imviz-0\")\n",
    "orientation = viz.plugins['Orientation']\n",
    "\n",
    "orientation.align_by = 'WCS'\n",
    "orientation.set_north_up_east_left()\n",
    "viz.app.state.drawer_content = ''  # close plugin tray"
   ]
  },
  {
   "cell_type": "markdown",
   "id": "67c884e0-d75d-40a2-9748-0286a30571d9",
   "metadata": {},
   "source": [
    "#### Load observations of the Cartwheel Galaxy into `mast-aladin-lite`:"
   ]
  },
  {
   "cell_type": "code",
   "execution_count": null,
   "id": "80c845ff-9a29-4e7d-bf78-8d83ffa3e020",
   "metadata": {},
   "outputs": [],
   "source": [
    "from mast_aladin_lite import MastAladin\n",
    "\n",
    "mast_aladin = MastAladin(\n",
    "    target='Cartwheel Galaxy',\n",
    "    fov=0.13,   # [deg]\n",
    "    height=400  # [pix]\n",
    ")\n",
    "mast_aladin"
   ]
  },
  {
   "cell_type": "markdown",
   "id": "f1c51a76-c93b-4711-90af-938e43f27ecf",
   "metadata": {},
   "source": [
    "#### get `mast-aladin-lite` viewport state:"
   ]
  },
  {
   "cell_type": "code",
   "execution_count": null,
   "id": "8c331613-21bd-488d-ba61-e9bde81ef642",
   "metadata": {},
   "outputs": [],
   "source": [
    "mast_aladin.aid.get_viewport()"
   ]
  },
  {
   "cell_type": "markdown",
   "id": "d3c92dc1-666d-4f89-92e6-7fe80fa2078c",
   "metadata": {},
   "source": [
    "#### get `imviz` viewport state:"
   ]
  },
  {
   "cell_type": "code",
   "execution_count": null,
   "id": "07eb824b-bb8f-4b6e-ad93-5d16e2d6b500",
   "metadata": {},
   "outputs": [],
   "source": [
    "imviz_viewer.aid.get_viewport()"
   ]
  },
  {
   "cell_type": "markdown",
   "id": "7def548c-82b3-44c0-9d1a-db6b72276301",
   "metadata": {},
   "source": [
    "#### set `imviz` viewport from the `mast-aladin-lite` viewport:"
   ]
  },
  {
   "cell_type": "code",
   "execution_count": null,
   "id": "66926064-0364-4ac3-a9e8-b7896ee71b88",
   "metadata": {},
   "outputs": [],
   "source": [
    "imviz_viewer.aid.set_viewport(\n",
    "    **mast_aladin.aid.get_viewport()\n",
    ")"
   ]
  },
  {
   "cell_type": "code",
   "execution_count": null,
   "id": "49667e6d-e75b-4531-b0a1-95e63b7da2d3",
   "metadata": {},
   "outputs": [],
   "source": []
  }
 ],
 "metadata": {
  "kernelspec": {
   "display_name": "Python 3 (ipykernel)",
   "language": "python",
   "name": "python3"
  },
  "language_info": {
   "codemirror_mode": {
    "name": "ipython",
    "version": 3
   },
   "file_extension": ".py",
   "mimetype": "text/x-python",
   "name": "python",
   "nbconvert_exporter": "python",
   "pygments_lexer": "ipython3",
   "version": "3.12.11"
  }
 },
 "nbformat": 4,
 "nbformat_minor": 5
}
